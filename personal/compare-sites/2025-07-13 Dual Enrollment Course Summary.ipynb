{
 "cells": [
  {
   "cell_type": "code",
   "execution_count": 3,
   "id": "bfdad174-7449-4796-ac32-6634cd54ca24",
   "metadata": {},
   "outputs": [],
   "source": [
    "from llama_index.llms.openrouter import OpenRouter\n",
    "from llama_index.core.llms import ChatMessage\n",
    "from dotenv import load_dotenv\n",
    "import os\n",
    "\n",
    "load_dotenv()\n",
    "model = \"google/gemini-flash-1.5\"\n",
    "key = os.environ['OPENROUTER_API_KEY']\n",
    "\n",
    "llm = OpenRouter(\n",
    "    api_key=key,\n",
    "    max_tokens=256,\n",
    "    context_window=65536,\n",
    "    model=model,\n",
    ")\n",
    "# print(f\"key {key}\")\n"
   ]
  },
  {
   "cell_type": "code",
   "execution_count": 19,
   "id": "eef1bfa4-d491-44bc-9a09-714da527be6b",
   "metadata": {},
   "outputs": [
    {
     "name": "stderr",
     "output_type": "stream",
     "text": [
      "Fetching pages: 100%|##########| 1/1 [00:00<00:00,  6.12it/s]\n"
     ]
    }
   ],
   "source": [
    "import asyncio\n",
    "import os\n",
    "import bs4\n",
    "from langchain_community.document_loaders import WebBaseLoader\n",
    "\n",
    "def stream(resp):\n",
    "    for r in resp:\n",
    "        print(r.delta, end=\"\")\n",
    "\n",
    "async def scrape_html(url):\n",
    "    loader = WebBaseLoader(web_paths=[url])\n",
    "    docs = []\n",
    "    async for doc in loader.alazy_load():\n",
    "        docs.append(doc)\n",
    "\n",
    "    return docs\n",
    "\n",
    "obuText = await scrape_html('https://www.okbulaunch.com/')\n",
    "# print(obuText)"
   ]
  },
  {
   "cell_type": "code",
   "execution_count": 20,
   "id": "b74f1618-ddb6-4dd6-8909-66f84941a5a4",
   "metadata": {},
   "outputs": [
    {
     "name": "stdout",
     "output_type": "stream",
     "text": [
      "Oklahoma Baptist University offers several online dual enrollment courses for high school juniors.  These courses are video-based, flexible, and relatively inexpensive ($100 per credit hour plus materials).  Here's a quick rundown of some of the offerings to help you decide what might interest you:\n",
      "\n",
      "**Humanities & Social Sciences:**\n",
      "\n",
      "* **Art Appreciation:**  An introduction to art history and analysis.\n",
      "* **Theatre Appreciation:** Explores theatre, its themes, and its application to life.  Includes hands-on activities.\n",
      "* **Communication:** Focuses on effective oral communication skills, including speech preparation and delivery.\n",
      "* **Sociology:**  Introduces the scientific study of society and social interactions.\n",
      "* **Introduction to Philosophy:**  Examines fundamental questions about life, God, ethics, and society, within a Christian worldview.\n",
      "* **American History (through the Civil War):**  Covers major events and movements in early US history.\n",
      "* **American Literature 1:** Studies American literature from colonial times through Romanticism.\n",
      "* **Introduction to Christian Scripture (The Story in the Bible):** Traces the biblical narrative from creation to Revelation.\n",
      "* **New Testament:**  Focuses on the literature and history of the New Testament, including the"
     ]
    }
   ],
   "source": [
    "message = ChatMessage(role=\"user\", content=f\"Summarize these classes for a junior in high school to decide what seems interesting. {obuText}\")\n",
    "resp = llm.stream_chat([message])\n",
    "\n",
    "stream(resp)"
   ]
  },
  {
   "cell_type": "code",
   "execution_count": 2,
   "id": "0701dc7b-f21b-4d2a-9e32-95a97b6461d6",
   "metadata": {},
   "outputs": [
    {
     "name": "stdout",
     "output_type": "stream",
     "text": [
      "/opt/conda/envs/conda-ai/bin/pip\n"
     ]
    }
   ],
   "source": []
  },
  {
   "cell_type": "code",
   "execution_count": null,
   "id": "e83457c2-85df-4fdc-a40d-1f40c2183774",
   "metadata": {},
   "outputs": [],
   "source": []
  }
 ],
 "metadata": {
  "kernelspec": {
   "display_name": "Python 3 (ipykernel)",
   "language": "python",
   "name": "python3"
  },
  "language_info": {
   "codemirror_mode": {
    "name": "ipython",
    "version": 3
   },
   "file_extension": ".py",
   "mimetype": "text/x-python",
   "name": "python",
   "nbconvert_exporter": "python",
   "pygments_lexer": "ipython3",
   "version": "3.12.11"
  }
 },
 "nbformat": 4,
 "nbformat_minor": 5
}
