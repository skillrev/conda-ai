{
 "cells": [
  {
   "cell_type": "markdown",
   "id": "ef4b7909-1d92-4aaf-8a42-f1542fca048c",
   "metadata": {},
   "source": [
    "# Overview\n",
    "Maintaining a Jupyter lab notebook in docker requires keeping your `Dockerfile` build in sync with your dynamic and interactive package management. Although you could always spin up a side process (/bin/bash) for running various commands (such as \"pip install\"), you can also manage that directly in the notebook here.\n",
    "\n",
    "Below, you can verify that any shell commands (prefixed with '!') are running in your dockerized environment, 'conda-ai'."
   ]
  },
  {
   "cell_type": "code",
   "execution_count": null,
   "id": "984830c5-1bda-4ce5-865c-28dbf459ae6f",
   "metadata": {},
   "outputs": [],
   "source": [
    "# show you are using the conda-ai environment\n",
    "!which pip"
   ]
  },
  {
   "cell_type": "code",
   "execution_count": null,
   "id": "09b3dec0-ec6e-461d-bc69-5517b7e50051",
   "metadata": {},
   "outputs": [],
   "source": [
    "# show/verify you are at the root of the repo\n",
    "!pwd"
   ]
  },
  {
   "cell_type": "markdown",
   "id": "8d2cba40-8b7a-4d5a-b951-a34c2fb6ddb0",
   "metadata": {},
   "source": [
    "Below are some typical commands that can be handy for use cases such as:\n",
    "- adding packages to your environment\n",
    "- exporting the latest environment into your repository's environment.yml\n"
   ]
  },
  {
   "cell_type": "code",
   "execution_count": null,
   "id": "c5713390-ada3-40ef-9458-4ff64b93983a",
   "metadata": {},
   "outputs": [],
   "source": [
    "# adding packages to your environment (change the package name as-needed)\n",
    "!pip install llama_index"
   ]
  },
  {
   "cell_type": "code",
   "execution_count": null,
   "id": "d5c4b65e-901c-4b94-9f15-9d1031a71d6a",
   "metadata": {},
   "outputs": [],
   "source": [
    "# export the latest environment changes back to environment.yml\n",
    "!conda env export | sed 's/name: base/name: conda-ai/g' > environment.yml"
   ]
  }
 ],
 "metadata": {
  "kernelspec": {
   "display_name": "Python 3 (ipykernel)",
   "language": "python",
   "name": "python3"
  },
  "language_info": {
   "codemirror_mode": {
    "name": "ipython",
    "version": 3
   },
   "file_extension": ".py",
   "mimetype": "text/x-python",
   "name": "python",
   "nbconvert_exporter": "python",
   "pygments_lexer": "ipython3",
   "version": "3.12.11"
  }
 },
 "nbformat": 4,
 "nbformat_minor": 5
}
